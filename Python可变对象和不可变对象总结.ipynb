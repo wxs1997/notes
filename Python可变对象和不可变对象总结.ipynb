{
 "cells": [
  {
   "cell_type": "raw",
   "metadata": {},
   "source": [
    "不可变对象包括数字、字符串、元组、不可变集合\n",
    "可变对象包括列表、字典、可变集合\n",
    "\n",
    "不可变数据类型在第一次声明赋值声明的时候, 会在内存中开辟一块空间, 用来存放这个变量被赋的值,  而这个变量实际上存储的, 并不是被赋予的这个值, 而是存放这个值所在空间的内存地址, 通过这个地址, 变量就可以在内存中取出数据了. 所谓不可变就是说, 我们不能改变这个数据在内存中的值, 所以当我们改变这个变量的赋值时, 只是在内存中重新开辟了一块空间, 将这一条新的数据存放在这一个新的内存地址里, 而原来的那个变量就不在引用原数据的内存地址而转为引用新数据的内存地址了。"
   ]
  },
  {
   "cell_type": "code",
   "execution_count": 9,
   "metadata": {},
   "outputs": [
    {
     "name": "stdout",
     "output_type": "stream",
     "text": [
      "[1, 1, 1, 1, 1]\n",
      "1894360160\n",
      "1894360160\n",
      "1894360160\n",
      "1894360160\n",
      "1894360160\n",
      "[0, 1, 1, 1, 1]\n",
      "1894360128\n",
      "1894360160\n",
      "1894360160\n",
      "1894360160\n",
      "1894360160\n",
      "[3, 3, 3, 3, 3]\n",
      "1894360224\n",
      "1894360224\n",
      "1894360224\n",
      "1894360224\n",
      "1894360224\n"
     ]
    }
   ],
   "source": [
    "#数字\n",
    "a = [1]*5\n",
    "print(a)\n",
    "for b in a:\n",
    "    print(id(b))\n",
    "a[0] = 0\n",
    "print(a)\n",
    "for b in a:\n",
    "    print(id(b))\n",
    "c=[3 for i in range(5)]\n",
    "print(c)\n",
    "for d in c:\n",
    "    print(id(d))"
   ]
  },
  {
   "cell_type": "code",
   "execution_count": 10,
   "metadata": {
    "scrolled": true
   },
   "outputs": [
    {
     "name": "stdout",
     "output_type": "stream",
     "text": [
      "['a', 'a', 'a', 'a', 'a']\n",
      "1962126016216\n",
      "1962126016216\n",
      "1962126016216\n",
      "1962126016216\n",
      "1962126016216\n",
      "['ad', 'a', 'a', 'a', 'a']\n",
      "1962168791928\n",
      "1962126016216\n",
      "1962126016216\n",
      "1962126016216\n",
      "1962126016216\n",
      "['b', 'b', 'b', 'b', 'b']\n",
      "1962126014816\n",
      "1962126014816\n",
      "1962126014816\n",
      "1962126014816\n",
      "1962126014816\n"
     ]
    }
   ],
   "source": [
    "#字符串\n",
    "a =['a']*5\n",
    "print(a)\n",
    "for b in a:\n",
    "    print(id(b))\n",
    "a[0]+='d'\n",
    "print(a)\n",
    "for b in a:\n",
    "    print(id(b))\n",
    "c = ['b' for i in range(5)]\n",
    "print(c)\n",
    "for d in c:\n",
    "    print(id(d))"
   ]
  },
  {
   "cell_type": "code",
   "execution_count": 14,
   "metadata": {
    "scrolled": true
   },
   "outputs": [
    {
     "name": "stdout",
     "output_type": "stream",
     "text": [
      "[(1, 2), (1, 2), (1, 2), (1, 2), (1, 2)]\n",
      "1962167180808\n",
      "1962167180808\n",
      "1962167180808\n",
      "1962167180808\n",
      "1962167180808\n",
      "[(1, 2, 7, 8), (1, 2), (1, 2), (1, 2), (1, 2)]\n",
      "1962168851896\n",
      "1962167180808\n",
      "1962167180808\n",
      "1962167180808\n",
      "1962167180808\n",
      "[(3, 4), (3, 4), (3, 4), (3, 4), (3, 4)]\n",
      "1962167181192\n",
      "1962167181192\n",
      "1962167181192\n",
      "1962167181192\n",
      "1962167181192\n"
     ]
    }
   ],
   "source": [
    "#元组\n",
    "a =[(1,2)]*5\n",
    "print(a)\n",
    "for b in a:\n",
    "    print(id(b))\n",
    "a[0]=a[0]+(7,8)\n",
    "print(a)\n",
    "for b in a:\n",
    "    print(id(b))\n",
    "c = [(3,4) for i in range(5)]\n",
    "print(c)\n",
    "for d in c:\n",
    "    print(id(d))"
   ]
  },
  {
   "cell_type": "code",
   "execution_count": 15,
   "metadata": {},
   "outputs": [
    {
     "name": "stdout",
     "output_type": "stream",
     "text": [
      "[frozenset(), frozenset(), frozenset(), frozenset(), frozenset()]\n"
     ]
    }
   ],
   "source": [
    "#不可变集合\n",
    "#这个只要用在集合里嵌套集合时候用，集合里的元素必须是不可变对象\n",
    "a = [frozenset()]*5\n",
    "print(a)"
   ]
  },
  {
   "cell_type": "raw",
   "metadata": {},
   "source": [
    "下面是可变数据类型"
   ]
  },
  {
   "cell_type": "code",
   "execution_count": 21,
   "metadata": {},
   "outputs": [
    {
     "name": "stdout",
     "output_type": "stream",
     "text": [
      "[[1, 2], [1, 2], [1, 2], [1, 2], [1, 2]]\n",
      "[[1, 2, 3], [1, 2, 3], [1, 2, 3], [1, 2, 3], [1, 2, 3]]\n",
      "1962168107720\n",
      "1962168889416\n",
      "1962168889928\n",
      "1962168109128\n",
      "1962168819336\n",
      "[[1, 2, 3], [1, 2], [1, 2], [1, 2], [1, 2]]\n"
     ]
    }
   ],
   "source": [
    "#列表\n",
    "a = [[1,2]]*5\n",
    "print(a)\n",
    "a[0].append(3)\n",
    "print(a)\n",
    "b = [[1,2] for i in range(5)]\n",
    "for c in b:\n",
    "    print(id(c))\n",
    "b[0].append(3)\n",
    "print(b)"
   ]
  },
  {
   "cell_type": "code",
   "execution_count": 25,
   "metadata": {
    "scrolled": true
   },
   "outputs": [
    {
     "name": "stdout",
     "output_type": "stream",
     "text": [
      "[{}, {}, {}, {}, {}]\n",
      "[{'1': '1'}, {'1': '1'}, {'1': '1'}, {'1': '1'}, {'1': '1'}]\n",
      "[{'1': '1'}, {}, {}, {}, {}]\n"
     ]
    }
   ],
   "source": [
    "#字典\n",
    "a = [{}]*5\n",
    "print(a)\n",
    "a[0]['1']='1'\n",
    "print(a)\n",
    "b = [{} for i in range(5)]\n",
    "b[0]['1']='1'\n",
    "print(b)"
   ]
  },
  {
   "cell_type": "code",
   "execution_count": 28,
   "metadata": {},
   "outputs": [
    {
     "name": "stdout",
     "output_type": "stream",
     "text": [
      "[set(), set(), set(), set(), set()]\n",
      "[{'s'}, {'s'}, {'s'}, {'s'}, {'s'}]\n",
      "[{'p'}, set(), set(), set(), set()]\n"
     ]
    }
   ],
   "source": [
    "#可变集合\n",
    "a = [set()]*5\n",
    "print(a)\n",
    "a[0].add('s')\n",
    "print(a)\n",
    "b = [set() for i in range(5)]\n",
    "b[0].add('p')\n",
    "print(b)"
   ]
  }
 ],
 "metadata": {
  "kernelspec": {
   "display_name": "Python 3",
   "language": "python",
   "name": "python3"
  },
  "language_info": {
   "codemirror_mode": {
    "name": "ipython",
    "version": 3
   },
   "file_extension": ".py",
   "mimetype": "text/x-python",
   "name": "python",
   "nbconvert_exporter": "python",
   "pygments_lexer": "ipython3",
   "version": "3.6.0"
  }
 },
 "nbformat": 4,
 "nbformat_minor": 2
}
